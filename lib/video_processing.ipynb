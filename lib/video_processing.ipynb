{
 "cells": [
  {
   "cell_type": "code",
   "execution_count": 3,
   "metadata": {},
   "outputs": [],
   "source": [
    "!mkdir save_frames"
   ]
  },
  {
   "cell_type": "code",
   "execution_count": 3,
   "metadata": {},
   "outputs": [],
   "source": [
    "!mkdir predicted_frames"
   ]
  },
  {
   "cell_type": "code",
   "execution_count": 6,
   "metadata": {},
   "outputs": [],
   "source": [
    "# importing the necessary libraries\n",
    "import cv2\n",
    "import numpy as np\n",
    "import uuid\n",
    "import os\n",
    "\n",
    "# Creating a VideoCapture object to read the video\n",
    "cap = cv2.VideoCapture('/home/poonam/artivatic/freeTime/BrandExposure/videos/raw/test_video.mp4')\n",
    "\n",
    "count=0\n",
    "while (cap.isOpened()):\n",
    "\n",
    "    ret, frame = cap.read()\n",
    "    \n",
    "    filename=str(uuid.uuid4())+\".jpg\"\n",
    "    fullpath=os.path.join(\"./save_frames\",filename)\n",
    "    cv2.imwrite(fullpath, frame)\n",
    "    count+=1\n",
    "    \n",
    "    if count==20:\n",
    "        break\n",
    "\n",
    "cap.release()\n",
    "cv2.destroyAllWindows()"
   ]
  },
  {
   "cell_type": "code",
   "execution_count": 4,
   "metadata": {},
   "outputs": [
    {
     "name": "stdout",
     "output_type": "stream",
     "text": [
      "data\t\t\t   models\t    predict.py\t train.py\n",
      "export_inference_graph.py  pipeline.config  save_frames  Untitled.ipynb\n",
      "fine_tuned_model\t   predicted.jpg    Thresh.jpg\n"
     ]
    }
   ],
   "source": [
    "!ls"
   ]
  },
  {
   "cell_type": "code",
   "execution_count": 22,
   "metadata": {},
   "outputs": [
    {
     "name": "stdout",
     "output_type": "stream",
     "text": [
      "1.15.0\n"
     ]
    }
   ],
   "source": [
    "import tensorflow as tf\n",
    "print(tf.__version__)"
   ]
  },
  {
   "cell_type": "code",
   "execution_count": null,
   "metadata": {},
   "outputs": [],
   "source": []
  },
  {
   "cell_type": "code",
   "execution_count": 1,
   "metadata": {},
   "outputs": [],
   "source": [
    "predicted_path = './predicted_frames'"
   ]
  },
  {
   "cell_type": "code",
   "execution_count": 23,
   "metadata": {
    "tags": []
   },
   "outputs": [],
   "source": [
    "import numpy as np\n",
    "import os\n",
    "import six.moves.urllib as urllib\n",
    "import sys\n",
    "import tarfile\n",
    "import tensorflow as tf\n",
    "import zipfile\n",
    "import cv2\n",
    "from collections import defaultdict\n",
    "from io import StringIO\n",
    "from matplotlib import pyplot as plt\n",
    "from PIL import Image\n",
    "import cv2\n",
    "import numpy as np\n",
    "import uuid\n",
    "import os\n",
    "import time\n",
    "\n",
    "from object_detection.utils import label_map_util\n",
    "from object_detection.utils import visualization_utils as vis_util\n",
    "\n",
    "\n",
    "KPIs_dict=dict()\n",
    "\n",
    "# Path to frozen detection graph. This is the actual model that is used for the object detection.\n",
    "PATH_TO_CKPT = \"/home/poonam/artivatic/freeTime/BrandExposure/brandexposure_training/fine_tuned_model/frozen_inference_graph.pb\"\n",
    "\n",
    "# List of the strings that is used to add correct label for each box.\n",
    "PATH_TO_LABELS = \"/home/poonam/artivatic/freeTime/BrandExposure/brandexposure_training/data/labels.txt\"\n",
    "\n",
    "NUM_CLASSES =7\n",
    "\n",
    "\n",
    "\n",
    "# ## Load a (frozen) Tensorflow model into memory.\n",
    "detection_graph = tf.Graph()\n",
    "with detection_graph.as_default():\n",
    "    od_graph_def = tf.GraphDef()\n",
    "    with tf.gfile.GFile(PATH_TO_CKPT, 'rb') as fid:\n",
    "        serialized_graph = fid.read()\n",
    "        od_graph_def.ParseFromString(serialized_graph)\n",
    "        tf.import_graph_def(od_graph_def, name='')\n",
    "\n",
    "\n",
    "# ## Loading label map\n",
    "label_map = label_map_util.load_labelmap(PATH_TO_LABELS)\n",
    "categories = label_map_util.convert_label_map_to_categories(label_map, max_num_classes=NUM_CLASSES, use_display_name=True)\n",
    "category_index = label_map_util.create_category_index(categories)\n",
    "\n",
    "    \n",
    "# ## Helper code\n",
    "def load_image_into_numpy_array(image):\n",
    "    (im_width, im_height) = image.size\n",
    "    return np.array(image.getdata()).reshape(\n",
    "      (im_height, im_width, 3)).astype(np.uint8)\n",
    "\n",
    "def calculate_area(x1,y1,x2,y2):\n",
    "    xDiff = abs(x1 - x2) \n",
    "    yDiff = abs(y1 - y2)\n",
    "    area = xDiff * yDiff\n",
    "    return area\n",
    "\n",
    "\n",
    "\n",
    "# Size, in inches, of the output images.\n",
    "IMAGE_SIZE = (500, 500)\n",
    "count=0\n",
    "frame_number=0\n",
    "cap = cv2.VideoCapture('/home/poonam/artivatic/freeTime/BrandExposure/videos/raw/test_video.mp4')\n",
    "\n",
    "with detection_graph.as_default():\n",
    "    with tf.Session(graph=detection_graph) as sess:\n",
    "        while (cap.isOpened()):\n",
    "            frame_number+=1\n",
    "            \n",
    "            ret, frame = cap.read()\n",
    "                        \n",
    "            filename=str(uuid.uuid4())+\".jpg\"\n",
    "            fullpath=os.path.join(\"./save_frames\",filename)\n",
    "            cv2.imwrite(fullpath, frame)\n",
    "            count+=1\n",
    "\n",
    "            ### for testing script...\n",
    "            if count==50:\n",
    "                break\n",
    "            ### ends here\n",
    "            \n",
    "            image = Image.open(fullpath)\n",
    "\n",
    "            image_np = load_image_into_numpy_array(image)\n",
    "            image_np_expanded = np.expand_dims(image_np, axis=0)\n",
    "            image_tensor = detection_graph.get_tensor_by_name('image_tensor:0')\n",
    "            boxes = detection_graph.get_tensor_by_name('detection_boxes:0')\n",
    "            scores = detection_graph.get_tensor_by_name('detection_scores:0')\n",
    "            classes = detection_graph.get_tensor_by_name('detection_classes:0')\n",
    "            num_detections = detection_graph.get_tensor_by_name('num_detections:0')\n",
    "\n",
    "            (boxes, scores, classes, num_detections) = sess.run(\n",
    "              [boxes, scores, classes, num_detections],\n",
    "              feed_dict={image_tensor: image_np_expanded})\n",
    "              # Visualization of the results of a detection.\n",
    "\n",
    "            image,box_to_display_str_map=vis_util.visualize_boxes_and_labels_on_image_array(\n",
    "              image_np,\n",
    "              np.squeeze(boxes),\n",
    "              np.squeeze(classes).astype(np.int32),\n",
    "              np.squeeze(scores),\n",
    "              category_index,\n",
    "              use_normalized_coordinates=True,\n",
    "              line_thickness=8)\n",
    "\n",
    "            image_pil = Image.fromarray(np.uint8(image_np)).convert('RGB')\n",
    "            im_width, im_height = image_pil.size\n",
    "            area_whole = im_width * im_height\n",
    "            for key,value in box_to_display_str_map.items():\n",
    "                ymin, xmin, ymax, xmax = key\n",
    "                (left, right, top, bottom) = (xmin * im_width, xmax * im_width,ymin * im_height, ymax * im_height)\n",
    "                area= calculate_area(top,left,bottom,right)\n",
    "                \n",
    "                percent_area = round(area/area_whole,2)\n",
    "                rindex=value[0].rfind(':')\n",
    "                brand_name = value[0][:rindex]\n",
    "                \n",
    "                if brand_name in KPIs_dict.keys():\n",
    "                    \n",
    "                    KPIs_dict[brand_name]['count']+=1\n",
    "                    KPIs_dict[brand_name]['area'].append(percent_area)\n",
    "                    KPIs_dict[brand_name]['frames'].append(frame_number)\n",
    "                else:\n",
    "                    KPIs_dict[brand_name]={\"count\":1}\n",
    "                    KPIs_dict[brand_name].update({\"area\":[percent_area]})\n",
    "                    KPIs_dict[brand_name].update({\"frames\":[frame_number]})\n",
    "\n",
    "\n",
    "            full_predicted_path = os.path.join(predicted_path,str(uuid.uuid4())+\".jpg\")\n",
    "            cv2.imwrite(full_predicted_path,image)\n",
    "            "
   ]
  },
  {
   "cell_type": "code",
   "execution_count": 5,
   "metadata": {},
   "outputs": [
    {
     "data": {
      "text/plain": [
       "{'hotstar': {'count': 8,\n",
       "  'area': [0.16, 0.16, 0.22, 0.18, 0.15, 0.34, 0.31, 0.16],\n",
       "  'frames': [4, 5, 5, 6, 10, 14, 16, 34]},\n",
       " 'pepsi': {'count': 2, 'area': [0.0, 0.0], 'frames': [46, 46]}}"
      ]
     },
     "execution_count": 5,
     "metadata": {},
     "output_type": "execute_result"
    }
   ],
   "source": [
    "KPIs_dict"
   ]
  },
  {
   "cell_type": "code",
   "execution_count": 19,
   "metadata": {},
   "outputs": [],
   "source": [
    "for each_brand,analytics_dict in KPIs_dict.items():\n",
    "    area=analytics_dict['area']\n",
    "    response = shortest_longest_area(area)\n",
    "    KPIs_dict[each_brand].update(response)"
   ]
  },
  {
   "cell_type": "code",
   "execution_count": 20,
   "metadata": {},
   "outputs": [],
   "source": [
    "def shortest_longest_area(area_list):\n",
    "    area_list.sort()\n",
    "    shortest = area_list[0]\n",
    "    longest = area_list[-1]\n",
    "    response = {\n",
    "        \"shortest\":shortest,\n",
    "        \"longest\":longest\n",
    "    }\n",
    "    return response"
   ]
  },
  {
   "cell_type": "code",
   "execution_count": 21,
   "metadata": {},
   "outputs": [
    {
     "data": {
      "text/plain": [
       "{'hotstar': {'count': 8,\n",
       "  'area': [0.15, 0.16, 0.16, 0.16, 0.18, 0.22, 0.31, 0.34],\n",
       "  'frames': [4, 5, 5, 6, 10, 14, 16, 34],\n",
       "  'shortest': 0.15,\n",
       "  'longest': 0.34},\n",
       " 'pepsi': {'count': 2,\n",
       "  'area': [0.0, 0.0],\n",
       "  'frames': [46, 46],\n",
       "  'shortest': 0.0,\n",
       "  'longest': 0.0}}"
      ]
     },
     "execution_count": 21,
     "metadata": {},
     "output_type": "execute_result"
    }
   ],
   "source": [
    "KPIs_dict"
   ]
  },
  {
   "cell_type": "code",
   "execution_count": null,
   "metadata": {},
   "outputs": [],
   "source": []
  }
 ],
 "metadata": {
  "kernelspec": {
   "display_name": "Python 3",
   "language": "python",
   "name": "python3"
  },
  "language_info": {
   "codemirror_mode": {
    "name": "ipython",
    "version": 3
   },
   "file_extension": ".py",
   "mimetype": "text/x-python",
   "name": "python",
   "nbconvert_exporter": "python",
   "pygments_lexer": "ipython3",
   "version": "3.8.5"
  }
 },
 "nbformat": 4,
 "nbformat_minor": 4
}
